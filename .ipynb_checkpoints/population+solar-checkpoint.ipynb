{
 "cells": [
  {
   "cell_type": "markdown",
   "id": "04a7d9ad",
   "metadata": {},
   "source": [
    "# Import Libraries"
   ]
  },
  {
   "cell_type": "code",
   "execution_count": 1,
   "id": "42839813",
   "metadata": {},
   "outputs": [],
   "source": [
    "import pandas as pd"
   ]
  },
  {
   "cell_type": "markdown",
   "id": "9094e53d",
   "metadata": {},
   "source": [
    "# Code"
   ]
  },
  {
   "cell_type": "markdown",
   "id": "7179173e",
   "metadata": {},
   "source": [
    "## Population"
   ]
  },
  {
   "cell_type": "code",
   "execution_count": 2,
   "id": "5d69e7ae",
   "metadata": {
    "scrolled": true
   },
   "outputs": [
    {
     "data": {
      "text/html": [
       "<div>\n",
       "<style scoped>\n",
       "    .dataframe tbody tr th:only-of-type {\n",
       "        vertical-align: middle;\n",
       "    }\n",
       "\n",
       "    .dataframe tbody tr th {\n",
       "        vertical-align: top;\n",
       "    }\n",
       "\n",
       "    .dataframe thead th {\n",
       "        text-align: right;\n",
       "    }\n",
       "</style>\n",
       "<table border=\"1\" class=\"dataframe\">\n",
       "  <thead>\n",
       "    <tr style=\"text-align: right;\">\n",
       "      <th></th>\n",
       "      <th>Sl No</th>\n",
       "      <th>State/UT</th>\n",
       "      <th>Population[50]</th>\n",
       "      <th>Percent (%)</th>\n",
       "      <th>Male</th>\n",
       "      <th>Female</th>\n",
       "      <th>Difference between male and female</th>\n",
       "      <th>Sex ratio</th>\n",
       "      <th>Rural[51]</th>\n",
       "      <th>Urban[51]</th>\n",
       "      <th>Area[52] (km2)</th>\n",
       "      <th>Density (per km2)</th>\n",
       "    </tr>\n",
       "  </thead>\n",
       "  <tbody>\n",
       "    <tr>\n",
       "      <th>0</th>\n",
       "      <td>1</td>\n",
       "      <td>Uttar Pradesh</td>\n",
       "      <td>199812341</td>\n",
       "      <td>16.50</td>\n",
       "      <td>104480510</td>\n",
       "      <td>95331831</td>\n",
       "      <td>9148679</td>\n",
       "      <td>930</td>\n",
       "      <td>155111022</td>\n",
       "      <td>44470455</td>\n",
       "      <td>240928</td>\n",
       "      <td>828</td>\n",
       "    </tr>\n",
       "    <tr>\n",
       "      <th>1</th>\n",
       "      <td>2</td>\n",
       "      <td>Maharashtra</td>\n",
       "      <td>112374333</td>\n",
       "      <td>9.28</td>\n",
       "      <td>58243056</td>\n",
       "      <td>54131277</td>\n",
       "      <td>4111779</td>\n",
       "      <td>929</td>\n",
       "      <td>61545441</td>\n",
       "      <td>50827531</td>\n",
       "      <td>307713</td>\n",
       "      <td>365</td>\n",
       "    </tr>\n",
       "    <tr>\n",
       "      <th>2</th>\n",
       "      <td>3</td>\n",
       "      <td>Bihar</td>\n",
       "      <td>104099452</td>\n",
       "      <td>8.60</td>\n",
       "      <td>54278157</td>\n",
       "      <td>49821295</td>\n",
       "      <td>4456862</td>\n",
       "      <td>918</td>\n",
       "      <td>92075028</td>\n",
       "      <td>11729609</td>\n",
       "      <td>94163</td>\n",
       "      <td>1102</td>\n",
       "    </tr>\n",
       "    <tr>\n",
       "      <th>3</th>\n",
       "      <td>4</td>\n",
       "      <td>West Bengal</td>\n",
       "      <td>91276115</td>\n",
       "      <td>7.54</td>\n",
       "      <td>46809027</td>\n",
       "      <td>44467088</td>\n",
       "      <td>2341939</td>\n",
       "      <td>950</td>\n",
       "      <td>62213676</td>\n",
       "      <td>29134060</td>\n",
       "      <td>88752</td>\n",
       "      <td>1030</td>\n",
       "    </tr>\n",
       "    <tr>\n",
       "      <th>4</th>\n",
       "      <td>5</td>\n",
       "      <td>Madhya Pradesh</td>\n",
       "      <td>72626809</td>\n",
       "      <td>6.00</td>\n",
       "      <td>37612306</td>\n",
       "      <td>35014503</td>\n",
       "      <td>2597803</td>\n",
       "      <td>931</td>\n",
       "      <td>52537899</td>\n",
       "      <td>20059666</td>\n",
       "      <td>308245</td>\n",
       "      <td>236</td>\n",
       "    </tr>\n",
       "  </tbody>\n",
       "</table>\n",
       "</div>"
      ],
      "text/plain": [
       "  Sl No        State/UT  Population[50]  Percent (%)       Male    Female  \\\n",
       "0     1   Uttar Pradesh       199812341        16.50  104480510  95331831   \n",
       "1     2     Maharashtra       112374333         9.28   58243056  54131277   \n",
       "2     3           Bihar       104099452         8.60   54278157  49821295   \n",
       "3     4     West Bengal        91276115         7.54   46809027  44467088   \n",
       "4     5  Madhya Pradesh        72626809         6.00   37612306  35014503   \n",
       "\n",
       "  Difference between male and female  Sex ratio  Rural[51]  Urban[51]  \\\n",
       "0                            9148679        930  155111022   44470455   \n",
       "1                            4111779        929   61545441   50827531   \n",
       "2                            4456862        918   92075028   11729609   \n",
       "3                            2341939        950   62213676   29134060   \n",
       "4                            2597803        931   52537899   20059666   \n",
       "\n",
       "   Area[52] (km2)  Density (per km2)  \n",
       "0          240928                828  \n",
       "1          307713                365  \n",
       "2           94163               1102  \n",
       "3           88752               1030  \n",
       "4          308245                236  "
      ]
     },
     "execution_count": 2,
     "metadata": {},
     "output_type": "execute_result"
    }
   ],
   "source": [
    "population = pd.read_csv(r\"C:\\Users\\Harsh mishra\\Desktop\\solarFarm\\data\\population\\Population of India.csv\")\n",
    "\n",
    "population.head()"
   ]
  },
  {
   "cell_type": "code",
   "execution_count": 7,
   "id": "4ff7f25f",
   "metadata": {},
   "outputs": [
    {
     "name": "stdout",
     "output_type": "stream",
     "text": [
      "Before dropping\n",
      "Index(['Sl No', 'State', 'Population[50]', 'Percent (%)', 'Male', 'Female',\n",
      "       'Difference between male and female', 'Sex ratio', 'Rural[51]',\n",
      "       'Urban[51]', 'Area[52] (km2)', 'Density (per km2)'],\n",
      "      dtype='object')\n",
      "After dropping\n",
      "Index(['Sl No', 'State', 'Population[50]', 'Rural[51]', 'Urban[51]',\n",
      "       'Area[52] (km2)', 'Density (per km2)'],\n",
      "      dtype='object')\n"
     ]
    }
   ],
   "source": [
    "population.rename(columns = {'State/UT' : 'State'}, inplace = True)\n",
    "\n",
    "print(\"Before dropping\")\n",
    "print(population.columns)\n",
    "\n",
    "population.drop(population.columns[[3, 4, 5, 6, 7]], axis = 1, inplace = True)\n",
    "\n",
    "print(\"After dropping\")\n",
    "print(population.columns)"
   ]
  },
  {
   "cell_type": "markdown",
   "id": "f9fcbb97",
   "metadata": {},
   "source": [
    "## Solar"
   ]
  },
  {
   "cell_type": "code",
   "execution_count": 3,
   "id": "d203c1b5",
   "metadata": {},
   "outputs": [
    {
     "data": {
      "text/html": [
       "<div>\n",
       "<style scoped>\n",
       "    .dataframe tbody tr th:only-of-type {\n",
       "        vertical-align: middle;\n",
       "    }\n",
       "\n",
       "    .dataframe tbody tr th {\n",
       "        vertical-align: top;\n",
       "    }\n",
       "\n",
       "    .dataframe thead th {\n",
       "        text-align: right;\n",
       "    }\n",
       "</style>\n",
       "<table border=\"1\" class=\"dataframe\">\n",
       "  <thead>\n",
       "    <tr style=\"text-align: right;\">\n",
       "      <th></th>\n",
       "      <th>State</th>\n",
       "      <th>Total Solar Area (hectares)</th>\n",
       "      <th>Total Solar Farm Count</th>\n",
       "    </tr>\n",
       "  </thead>\n",
       "  <tbody>\n",
       "    <tr>\n",
       "      <th>0</th>\n",
       "      <td>Andhra Pradesh</td>\n",
       "      <td>5887</td>\n",
       "      <td>69</td>\n",
       "    </tr>\n",
       "    <tr>\n",
       "      <th>1</th>\n",
       "      <td>Chhattisgarh</td>\n",
       "      <td>413</td>\n",
       "      <td>8</td>\n",
       "    </tr>\n",
       "    <tr>\n",
       "      <th>2</th>\n",
       "      <td>Gujarat</td>\n",
       "      <td>3503</td>\n",
       "      <td>73</td>\n",
       "    </tr>\n",
       "    <tr>\n",
       "      <th>3</th>\n",
       "      <td>Haryana</td>\n",
       "      <td>256</td>\n",
       "      <td>22</td>\n",
       "    </tr>\n",
       "    <tr>\n",
       "      <th>4</th>\n",
       "      <td>Himachal Pradesh</td>\n",
       "      <td>75</td>\n",
       "      <td>6</td>\n",
       "    </tr>\n",
       "  </tbody>\n",
       "</table>\n",
       "</div>"
      ],
      "text/plain": [
       "              State  Total Solar Area (hectares)  Total Solar Farm Count\n",
       "0    Andhra Pradesh                         5887                      69\n",
       "1      Chhattisgarh                          413                       8\n",
       "2           Gujarat                         3503                      73\n",
       "3           Haryana                          256                      22\n",
       "4  Himachal Pradesh                           75                       6"
      ]
     },
     "execution_count": 3,
     "metadata": {},
     "output_type": "execute_result"
    }
   ],
   "source": [
    "solar = pd.read_csv(r\"C:\\Users\\Harsh mishra\\Desktop\\solarFarm\\data\\solar_farms_india_2021.csv\")\n",
    "\n",
    "solar.head()"
   ]
  },
  {
   "cell_type": "markdown",
   "id": "9dd61faa",
   "metadata": {},
   "source": [
    "Common column"
   ]
  },
  {
   "cell_type": "code",
   "execution_count": 9,
   "id": "a4c69901",
   "metadata": {},
   "outputs": [
    {
     "name": "stdout",
     "output_type": "stream",
     "text": [
      "['State']\n"
     ]
    }
   ],
   "source": [
    "import numpy as np\n",
    "\n",
    "common = np.intersect1d(solar.columns, population.columns)\n",
    "\n",
    "print(common)"
   ]
  },
  {
   "cell_type": "code",
   "execution_count": 14,
   "id": "5a56dda1",
   "metadata": {},
   "outputs": [
    {
     "name": "stdout",
     "output_type": "stream",
     "text": [
      "   Sl No                             State  Population[50]  Rural[51]  \\\n",
      "0      1                     Uttar Pradesh       199812341  155111022   \n",
      "1      2                       Maharashtra       112374333   61545441   \n",
      "2      3                             Bihar       104099452   92075028   \n",
      "3      4                       West Bengal        91276115   62213676   \n",
      "4      5                    Madhya Pradesh        72626809   52537899   \n",
      "5      6                        Tamil Nadu        72147030   37189229   \n",
      "6      7                         Rajasthan        68548437   51540236   \n",
      "7      8                         Karnataka        61095297   37552529   \n",
      "8      9                           Gujarat        60439692   34670817   \n",
      "9     10                    Andhra Pradesh        49386799   34776389   \n",
      "10    11                            Odisha        41974218   34951234   \n",
      "11    12                         Telangana        35193978   21585313   \n",
      "12    13                            Kerala        33406061   17445506   \n",
      "13    14                         Jharkhand        32988134   25036946   \n",
      "14    15                             Assam        31205576   26780526   \n",
      "15    16                            Punjab        27743338   17316800   \n",
      "16    17                      Chhattisgarh        25545198   19603658   \n",
      "17    18                           Haryana        25351462   16531493   \n",
      "18    19                        Delhi (UT)        16787941     944727   \n",
      "19    20                 Jammu and Kashmir        12541302    9134820   \n",
      "20    21                       Uttarakhand        10086292    7025583   \n",
      "21    22                  Himachal Pradesh         6864602    6167805   \n",
      "22    23                           Tripura         3673917    2710051   \n",
      "23    24                         Meghalaya         2966889    2368971   \n",
      "24    25                           Manipur         2855794    1899624   \n",
      "25    26                          Nagaland         1978502    1406861   \n",
      "26    27                               Goa         1458545     551414   \n",
      "27    28                 Arunachal Pradesh         1383727    1069165   \n",
      "28    29                   Puducherry (UT)         1247953     394341   \n",
      "29    30                           Mizoram         1097206     529037   \n",
      "30    31                   Chandigarh (UT)         1055450      29004   \n",
      "31    32                            Sikkim          610577     455962   \n",
      "32    33  Andaman and Nicobar Islands (UT)          380581     244411   \n",
      "33    34       Dadra and Nagar Haveli (UT)          343709     183024   \n",
      "34    35                Daman and Diu (UT)          243247      60331   \n",
      "35    36                  Lakshadweep (UT)           64473      14121   \n",
      "36     –                     Total (India)      1210854977  833087662   \n",
      "\n",
      "    Urban[51]  Area[52] (km2)  Density (per km2)  Total Solar Area (hectares)  \\\n",
      "0    44470455          240928                828                        556.0   \n",
      "1    50827531          307713                365                       5141.0   \n",
      "2    11729609           94163               1102                          NaN   \n",
      "3    29134060           88752               1030                        360.0   \n",
      "4    20059666          308245                236                       5365.0   \n",
      "5    34949729          130058                555                      28908.0   \n",
      "6    17080776          342239                201                      14456.0   \n",
      "7    23578175          191791                319                      29506.0   \n",
      "8    25712811          196024                308                       3503.0   \n",
      "9    14610410          160205                308                       5887.0   \n",
      "10    6996124          155707                269                        854.0   \n",
      "11   13608665          114840                307                      19250.0   \n",
      "12   15932171           38863                859                        439.0   \n",
      "13    7929292           79714                414                        168.0   \n",
      "14    4388756           78438                397                          NaN   \n",
      "15   10387436           50362                550                        767.0   \n",
      "16    5936538          135191                189                        413.0   \n",
      "17    8821588           44212                573                        256.0   \n",
      "18   12905780            1484              11297                          NaN   \n",
      "19    3414106          222236                 56                          NaN   \n",
      "20    3091169           53483                189                       2665.0   \n",
      "21     688704           55673                123                         75.0   \n",
      "22     960981           10486                350                         34.0   \n",
      "23     595036           22429                132                          NaN   \n",
      "24     822132           22327                128                          NaN   \n",
      "25     573741           16579                119                          NaN   \n",
      "26     906309            3702                394                          NaN   \n",
      "27     313446           83743                 17                          NaN   \n",
      "28     850123             479               2598                          NaN   \n",
      "29     561997           21081                 52                          NaN   \n",
      "30    1025682             114               9252                          NaN   \n",
      "31     151726            7096                 86                          NaN   \n",
      "32     135533            8249                 46                          NaN   \n",
      "33     159829             491                698                          NaN   \n",
      "34     182580             112               2169                          NaN   \n",
      "35      50308              32               2013                          NaN   \n",
      "36  377105760         3287240                382                          NaN   \n",
      "\n",
      "    Total Solar Farm Count  \n",
      "0                     21.0  \n",
      "1                    105.0  \n",
      "2                      NaN  \n",
      "3                     14.0  \n",
      "4                     59.0  \n",
      "5                    156.0  \n",
      "6                     88.0  \n",
      "7                    343.0  \n",
      "8                     73.0  \n",
      "9                     69.0  \n",
      "10                    27.0  \n",
      "11                   250.0  \n",
      "12                    12.0  \n",
      "13                     6.0  \n",
      "14                     NaN  \n",
      "15                    47.0  \n",
      "16                     8.0  \n",
      "17                    22.0  \n",
      "18                     NaN  \n",
      "19                     NaN  \n",
      "20                    56.0  \n",
      "21                     6.0  \n",
      "22                     1.0  \n",
      "23                     NaN  \n",
      "24                     NaN  \n",
      "25                     NaN  \n",
      "26                     NaN  \n",
      "27                     NaN  \n",
      "28                     NaN  \n",
      "29                     NaN  \n",
      "30                     NaN  \n",
      "31                     NaN  \n",
      "32                     NaN  \n",
      "33                     NaN  \n",
      "34                     NaN  \n",
      "35                     NaN  \n",
      "36                     NaN  \n"
     ]
    }
   ],
   "source": [
    "merged_df_outer = pd.merge(population, solar, on='State', how='outer')\n",
    "\n",
    "print(merged_df_outer)"
   ]
  },
  {
   "cell_type": "code",
   "execution_count": 15,
   "id": "30e0d729",
   "metadata": {},
   "outputs": [],
   "source": [
    "merged_df_outer.to_csv(r\"C:\\Users\\Harsh mishra\\Desktop\\solarFarm\\data\\solar+population.csv\", index = False)"
   ]
  },
  {
   "cell_type": "code",
   "execution_count": 16,
   "id": "5a8c6f53",
   "metadata": {},
   "outputs": [
    {
     "name": "stdout",
     "output_type": "stream",
     "text": [
      "Number of null values: 36\n"
     ]
    }
   ],
   "source": [
    "null_count = merged_df_outer.isnull().sum().sum()\n",
    "print('Number of null values:', null_count)"
   ]
  }
 ],
 "metadata": {
  "kernelspec": {
   "display_name": "Python 3 (ipykernel)",
   "language": "python",
   "name": "python3"
  },
  "language_info": {
   "codemirror_mode": {
    "name": "ipython",
    "version": 3
   },
   "file_extension": ".py",
   "mimetype": "text/x-python",
   "name": "python",
   "nbconvert_exporter": "python",
   "pygments_lexer": "ipython3",
   "version": "3.11.5"
  }
 },
 "nbformat": 4,
 "nbformat_minor": 5
}
